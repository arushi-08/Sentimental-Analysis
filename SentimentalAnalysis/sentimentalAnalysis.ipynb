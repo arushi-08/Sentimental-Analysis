{
 "cells": [
  {
   "cell_type": "code",
   "execution_count": 55,
   "metadata": {
    "collapsed": true
   },
   "outputs": [],
   "source": [
    "from nltk.tokenize import sent_tokenize, word_tokenize\n",
    "import pandas as pd \n",
    "from nltk.corpus import stopwords\n",
    "from nltk import pos_tag\n",
    "from sklearn.feature_extraction.text import CountVectorizer"
   ]
  },
  {
   "cell_type": "code",
   "execution_count": 56,
   "metadata": {},
   "outputs": [
    {
     "name": "stderr",
     "output_type": "stream",
     "text": [
      "/Users/shefalibansal/anaconda3/lib/python3.6/site-packages/IPython/core/interactiveshell.py:2698: DtypeWarning: Columns (0) have mixed types. Specify dtype option on import or set low_memory=False.\n",
      "  interactivity=interactivity, compiler=compiler, result=result)\n"
     ]
    }
   ],
   "source": [
    "data=pd.read_csv(\"sentclf_train.csv\",index_col=0)\n",
    "test_file=pd.read_csv(\"sentclf_test_data.csv\")\n"
   ]
  },
  {
   "cell_type": "code",
   "execution_count": 57,
   "metadata": {
    "collapsed": true
   },
   "outputs": [],
   "source": [
    "data.drop(data.index[273514],axis=0,inplace=True)"
   ]
  },
  {
   "cell_type": "code",
   "execution_count": 58,
   "metadata": {
    "collapsed": true
   },
   "outputs": [],
   "source": [
    "data=data.reset_index()"
   ]
  },
  {
   "cell_type": "code",
   "execution_count": 59,
   "metadata": {},
   "outputs": [
    {
     "data": {
      "text/html": [
       "<div>\n",
       "<style>\n",
       "    .dataframe thead tr:only-child th {\n",
       "        text-align: right;\n",
       "    }\n",
       "\n",
       "    .dataframe thead th {\n",
       "        text-align: left;\n",
       "    }\n",
       "\n",
       "    .dataframe tbody tr th {\n",
       "        vertical-align: top;\n",
       "    }\n",
       "</style>\n",
       "<table border=\"1\" class=\"dataframe\">\n",
       "  <thead>\n",
       "    <tr style=\"text-align: right;\">\n",
       "      <th></th>\n",
       "      <th>label</th>\n",
       "      <th>text</th>\n",
       "    </tr>\n",
       "  </thead>\n",
       "  <tbody>\n",
       "    <tr>\n",
       "      <th>0</th>\n",
       "      <td>1</td>\n",
       "      <td>Great mobile app with nice reward program. Mak...</td>\n",
       "    </tr>\n",
       "    <tr>\n",
       "      <th>1</th>\n",
       "      <td>2</td>\n",
       "      <td>Really fast and polite. Definitely recommend. ...</td>\n",
       "    </tr>\n",
       "    <tr>\n",
       "      <th>2</th>\n",
       "      <td>2</td>\n",
       "      <td>This place is always amazing, friendly staff a...</td>\n",
       "    </tr>\n",
       "    <tr>\n",
       "      <th>3</th>\n",
       "      <td>1</td>\n",
       "      <td>We did a Wine 101 class on a Friday night. Coo...</td>\n",
       "    </tr>\n",
       "    <tr>\n",
       "      <th>4</th>\n",
       "      <td>1</td>\n",
       "      <td>I am rounding up because I think this place ma...</td>\n",
       "    </tr>\n",
       "  </tbody>\n",
       "</table>\n",
       "</div>"
      ],
      "text/plain": [
       "  label                                               text\n",
       "0     1  Great mobile app with nice reward program. Mak...\n",
       "1     2  Really fast and polite. Definitely recommend. ...\n",
       "2     2  This place is always amazing, friendly staff a...\n",
       "3     1  We did a Wine 101 class on a Friday night. Coo...\n",
       "4     1  I am rounding up because I think this place ma..."
      ]
     },
     "execution_count": 59,
     "metadata": {},
     "output_type": "execute_result"
    }
   ],
   "source": [
    "data.head()"
   ]
  },
  {
   "cell_type": "code",
   "execution_count": 60,
   "metadata": {},
   "outputs": [
    {
     "data": {
      "text/plain": [
       "(100000, 2)"
      ]
     },
     "execution_count": 60,
     "metadata": {},
     "output_type": "execute_result"
    }
   ],
   "source": [
    "test_file.shape"
   ]
  },
  {
   "cell_type": "code",
   "execution_count": 61,
   "metadata": {
    "collapsed": true
   },
   "outputs": [],
   "source": [
    "IDs=test_file['ID'] \n",
    "test_file.drop('ID',axis=1,inplace=True)"
   ]
  },
  {
   "cell_type": "code",
   "execution_count": 62,
   "metadata": {},
   "outputs": [
    {
     "data": {
      "text/html": [
       "<div>\n",
       "<style>\n",
       "    .dataframe thead tr:only-child th {\n",
       "        text-align: right;\n",
       "    }\n",
       "\n",
       "    .dataframe thead th {\n",
       "        text-align: left;\n",
       "    }\n",
       "\n",
       "    .dataframe tbody tr th {\n",
       "        vertical-align: top;\n",
       "    }\n",
       "</style>\n",
       "<table border=\"1\" class=\"dataframe\">\n",
       "  <thead>\n",
       "    <tr style=\"text-align: right;\">\n",
       "      <th></th>\n",
       "      <th>text</th>\n",
       "    </tr>\n",
       "  </thead>\n",
       "  <tbody>\n",
       "    <tr>\n",
       "      <th>0</th>\n",
       "      <td>Great mandi place, haven't seen many in the GT...</td>\n",
       "    </tr>\n",
       "    <tr>\n",
       "      <th>1</th>\n",
       "      <td>Just had my pizza delivered by the best delive...</td>\n",
       "    </tr>\n",
       "    <tr>\n",
       "      <th>2</th>\n",
       "      <td>The owners, Greg and Tammy promptly contacted ...</td>\n",
       "    </tr>\n",
       "    <tr>\n",
       "      <th>3</th>\n",
       "      <td>One week ago:\\nSigned papers for a storage uni...</td>\n",
       "    </tr>\n",
       "    <tr>\n",
       "      <th>4</th>\n",
       "      <td>Prior to taking in the Amon Amarth concert at ...</td>\n",
       "    </tr>\n",
       "  </tbody>\n",
       "</table>\n",
       "</div>"
      ],
      "text/plain": [
       "                                                text\n",
       "0  Great mandi place, haven't seen many in the GT...\n",
       "1  Just had my pizza delivered by the best delive...\n",
       "2  The owners, Greg and Tammy promptly contacted ...\n",
       "3  One week ago:\\nSigned papers for a storage uni...\n",
       "4  Prior to taking in the Amon Amarth concert at ..."
      ]
     },
     "execution_count": 62,
     "metadata": {},
     "output_type": "execute_result"
    }
   ],
   "source": [
    "test_file.head()"
   ]
  },
  {
   "cell_type": "code",
   "execution_count": 89,
   "metadata": {
    "collapsed": true
   },
   "outputs": [],
   "source": [
    "documents=[]\n",
    "for indx in range(len(data)):\n",
    "    documents.append(word_tokenize(str(data['text'][indx])))\n",
    "    if indx%1000==0:\n",
    "        print(indx)\n",
    "for indx in range(len(test_file)):\n",
    "    documents.append(word_tokenize(str(test_file['text'][indx])))"
   ]
  },
  {
   "cell_type": "code",
   "execution_count": null,
   "metadata": {
    "collapsed": true
   },
   "outputs": [],
   "source": []
  },
  {
   "cell_type": "code",
   "execution_count": null,
   "metadata": {
    "collapsed": true
   },
   "outputs": [],
   "source": [
    "# DELETING STOPWORDS AND LEMATIZING\n",
    "from nltk.corpus import wordnet\n",
    "def get_simple_pos(tag):\n",
    "    if tag.startswith('J'):\n",
    "        return wordnet.ADJ\n",
    "    elif tag.startswith('V'):\n",
    "        return wordnet.VERB\n",
    "    elif tag.startswith('N'):\n",
    "        return wordnet.NOUN\n",
    "    elif tag.startswith('R'):\n",
    "        return wordnet.ADV\n",
    "    else:\n",
    "        return wordnet.NOUN\n",
    "    \n",
    "from nltk.stem import WordNetLemmatizer\n",
    "lemmatizer=WordNetLemmatizer()\n",
    "\n",
    "from nltk.corpus import stopwords\n",
    "import string\n",
    "stops=set(stopwords.words('english'))\n",
    "punctuation=list(string.punctuation)\n",
    "stops.update(punctuation)\n",
    "len(stops)\n",
    "\n",
    "def clean_review(words):\n",
    "    output_words=[]\n",
    "#     passing words as it is important ex. capital means proper noun\n",
    "    for w in words:\n",
    "        if w.lower() not in stops:\n",
    "            pos=pos_tag((w))\n",
    "            clean_word=lemmatizer.lemmatize(w,pos=get_simple_pos(pos[0][1]))\n",
    "            output_words.append(clean_word.lower())\n",
    "    return output_words\n",
    "\n",
    "documentts=[]\n",
    "for indx in range(len(documents)):\n",
    "    documentts.append((clean_review(documents[indx])))\n",
    "    print(indx)\n",
    "\n",
    "\n"
   ]
  },
  {
   "cell_type": "code",
   "execution_count": 64,
   "metadata": {},
   "outputs": [
    {
     "data": {
      "text/plain": [
       "400000"
      ]
     },
     "execution_count": 64,
     "metadata": {},
     "output_type": "execute_result"
    }
   ],
   "source": [
    "category=[data['label'][indx] for indx in range(len(data))]\n",
    "len(category)\n"
   ]
  },
  {
   "cell_type": "code",
   "execution_count": 65,
   "metadata": {
    "collapsed": true
   },
   "outputs": [],
   "source": [
    "text_documents=[ \" \".join(document) for document in documents ]\n",
    "len(text_documents)"
   ]
  },
  {
   "cell_type": "code",
   "execution_count": 66,
   "metadata": {
    "collapsed": true
   },
   "outputs": [],
   "source": []
  },
  {
   "cell_type": "code",
   "execution_count": 67,
   "metadata": {
    "collapsed": true
   },
   "outputs": [],
   "source": [
    "import pickle"
   ]
  },
  {
   "cell_type": "code",
   "execution_count": 68,
   "metadata": {
    "collapsed": true
   },
   "outputs": [],
   "source": [
    "pickle_out=open(\"sentimentall.pickle\",\"wb\")\n",
    "\n",
    "pickle.dump(text_documents,pickle_out)   \n",
    "pickle_out.close()"
   ]
  },
  {
   "cell_type": "code",
   "execution_count": 69,
   "metadata": {
    "collapsed": true
   },
   "outputs": [],
   "source": [
    "pickle_in=open(\"sentimentall.pickle\",\"rb\")\n",
    "text_documents= pickle.load(pickle_in)  \n"
   ]
  },
  {
   "cell_type": "code",
   "execution_count": 70,
   "metadata": {},
   "outputs": [
    {
     "data": {
      "text/plain": [
       "\"Great mobile app with nice reward program . Make reservations , dine-in pre-order , carry out and curbside , and group order option . Dining in , the experience and atmosphere is great . I 've ordered take-out\\\\/curbside several times , and not once was the order correct . After a few bad orders , I was provided a $ 20 Gift Card to return . I used it for carry out , and that order was the worst I 'd gotten . After another failed attempt , I have not gone that route again . Diverse , delicious menu for all tastes including kids , nice bar with great options and TVs for sports fans . I can recommend the dining experience in-house , but carry out is a gamble ...\""
      ]
     },
     "execution_count": 70,
     "metadata": {},
     "output_type": "execute_result"
    }
   ],
   "source": [
    "text_documents[0]"
   ]
  },
  {
   "cell_type": "code",
   "execution_count": 71,
   "metadata": {},
   "outputs": [
    {
     "data": {
      "text/plain": [
       "400000"
      ]
     },
     "execution_count": 71,
     "metadata": {},
     "output_type": "execute_result"
    }
   ],
   "source": [
    "import re\n",
    "text_documents = [ re.sub('[^a-zA-z\\s]','',str(doc))  for doc in text_documents    ]\n",
    "len(category)"
   ]
  },
  {
   "cell_type": "code",
   "execution_count": null,
   "metadata": {
    "collapsed": true
   },
   "outputs": [],
   "source": []
  },
  {
   "cell_type": "code",
   "execution_count": 72,
   "metadata": {
    "collapsed": true
   },
   "outputs": [],
   "source": [
    "from sklearn.model_selection import train_test_split"
   ]
  },
  {
   "cell_type": "code",
   "execution_count": 86,
   "metadata": {
    "collapsed": true
   },
   "outputs": [],
   "source": [
    "x_train, x_test,y_train, y_test=train_test_split(text_documents[0:400000], category,random_state=1)"
   ]
  },
  {
   "cell_type": "code",
   "execution_count": 74,
   "metadata": {
    "collapsed": true
   },
   "outputs": [],
   "source": [
    "x_train=text_documents[0:400000]"
   ]
  },
  {
   "cell_type": "code",
   "execution_count": 75,
   "metadata": {
    "collapsed": true
   },
   "outputs": [],
   "source": [
    "x_test=text_documents[400000:]"
   ]
  },
  {
   "cell_type": "code",
   "execution_count": 76,
   "metadata": {},
   "outputs": [],
   "source": [
    "# len(x_train)"
   ]
  },
  {
   "cell_type": "code",
   "execution_count": 77,
   "metadata": {},
   "outputs": [],
   "source": [
    "# len(x_test)"
   ]
  },
  {
   "cell_type": "code",
   "execution_count": 78,
   "metadata": {},
   "outputs": [],
   "source": [
    "# y_train=category"
   ]
  },
  {
   "cell_type": "code",
   "execution_count": null,
   "metadata": {
    "collapsed": true
   },
   "outputs": [],
   "source": []
  },
  {
   "cell_type": "code",
   "execution_count": 79,
   "metadata": {},
   "outputs": [
    {
     "data": {
      "text/plain": [
       "matrix([[0, 0, 0, ..., 0, 0, 0],\n",
       "        [0, 0, 0, ..., 0, 0, 0],\n",
       "        [0, 0, 0, ..., 0, 1, 0],\n",
       "        ...,\n",
       "        [0, 0, 0, ..., 0, 0, 0],\n",
       "        [0, 0, 0, ..., 0, 0, 0],\n",
       "        [0, 0, 0, ..., 0, 0, 0]], dtype=int64)"
      ]
     },
     "execution_count": 79,
     "metadata": {},
     "output_type": "execute_result"
    }
   ],
   "source": [
    "count_vec=CountVectorizer(max_features=5000,analyzer='word',ngram_range=(1, 2),max_df=0.9,min_df=0.001)\n",
    "x_train_features=count_vec.fit_transform(x_train)\n",
    "x_train_features.todense()"
   ]
  },
  {
   "cell_type": "code",
   "execution_count": 80,
   "metadata": {},
   "outputs": [
    {
     "data": {
      "text/plain": [
       "5000"
      ]
     },
     "execution_count": 80,
     "metadata": {},
     "output_type": "execute_result"
    }
   ],
   "source": [
    "len(count_vec.get_feature_names())\n",
    "# features=count_vec.get_feature_names()"
   ]
  },
  {
   "cell_type": "code",
   "execution_count": 81,
   "metadata": {
    "collapsed": true
   },
   "outputs": [],
   "source": [
    "x_test_features=count_vec.transform(x_test)"
   ]
  },
  {
   "cell_type": "code",
   "execution_count": 82,
   "metadata": {},
   "outputs": [
    {
     "data": {
      "text/plain": [
       "['aber',\n",
       " 'able',\n",
       " 'able to',\n",
       " 'about',\n",
       " 'about how',\n",
       " 'about it',\n",
       " 'about minutes',\n",
       " 'about my',\n",
       " 'about the',\n",
       " 'about their',\n",
       " 'about this',\n",
       " 'about to',\n",
       " 'about what',\n",
       " 'above',\n",
       " 'above and',\n",
       " 'absolute',\n",
       " 'absolutely',\n",
       " 'absolutely amazing',\n",
       " 'absolutely delicious',\n",
       " 'absolutely love',\n",
       " 'ac',\n",
       " 'access',\n",
       " 'accommodate',\n",
       " 'accommodating',\n",
       " 'account',\n",
       " 'across',\n",
       " 'across the',\n",
       " 'act',\n",
       " 'actual',\n",
       " 'actually',\n",
       " 'add',\n",
       " 'added',\n",
       " 'addition',\n",
       " 'addition to',\n",
       " 'additional',\n",
       " 'address',\n",
       " 'admit',\n",
       " 'advance',\n",
       " 'advantage',\n",
       " 'advice',\n",
       " 'affordable',\n",
       " 'after',\n",
       " 'after all',\n",
       " 'after my',\n",
       " 'after that',\n",
       " 'after the',\n",
       " 'after we',\n",
       " 'afternoon',\n",
       " 'again',\n",
       " 'again and',\n",
       " 'again for',\n",
       " 'again the',\n",
       " 'against',\n",
       " 'age',\n",
       " 'ago',\n",
       " 'ago and',\n",
       " 'agree',\n",
       " 'agreed',\n",
       " 'ahead',\n",
       " 'ahead of',\n",
       " 'air',\n",
       " 'airport',\n",
       " 'al',\n",
       " 'alcohol',\n",
       " 'all',\n",
       " 'all about',\n",
       " 'all and',\n",
       " 'all around',\n",
       " 'all day',\n",
       " 'all in',\n",
       " 'all it',\n",
       " 'all my',\n",
       " 'all of',\n",
       " 'all over',\n",
       " 'all that',\n",
       " 'all the',\n",
       " 'all this',\n",
       " 'all you',\n",
       " 'allow',\n",
       " 'allowed',\n",
       " 'almost',\n",
       " 'alone',\n",
       " 'along',\n",
       " 'along with',\n",
       " 'already',\n",
       " 'alright',\n",
       " 'also',\n",
       " 'also got',\n",
       " 'also had',\n",
       " 'also have',\n",
       " 'also ordered',\n",
       " 'also the',\n",
       " 'also very',\n",
       " 'although',\n",
       " 'although the',\n",
       " 'always',\n",
       " 'always been',\n",
       " 'always friendly',\n",
       " 'always get',\n",
       " 'always great',\n",
       " 'always have',\n",
       " 'am',\n",
       " 'am in',\n",
       " 'am not',\n",
       " 'am so',\n",
       " 'am very',\n",
       " 'amazing',\n",
       " 'amazing and',\n",
       " 'amazing food',\n",
       " 'amazing job',\n",
       " 'amazing the',\n",
       " 'ambiance',\n",
       " 'ambience',\n",
       " 'american',\n",
       " 'amount',\n",
       " 'amount of',\n",
       " 'an',\n",
       " 'an amazing',\n",
       " 'an appetizer',\n",
       " 'an appointment',\n",
       " 'an awesome',\n",
       " 'an excellent',\n",
       " 'an extra',\n",
       " 'an hour',\n",
       " 'an issue',\n",
       " 'an order',\n",
       " 'and',\n",
       " 'and after',\n",
       " 'and again',\n",
       " 'and all',\n",
       " 'and also',\n",
       " 'and always',\n",
       " 'and am',\n",
       " 'and an',\n",
       " 'and are',\n",
       " 'and as',\n",
       " 'and ask',\n",
       " 'and asked',\n",
       " 'and at',\n",
       " 'and attentive',\n",
       " 'and beyond',\n",
       " 'and both',\n",
       " 'and ca',\n",
       " 'and came',\n",
       " 'and can',\n",
       " 'and cheese',\n",
       " 'and chicken',\n",
       " 'and chips',\n",
       " 'and clean',\n",
       " 'and could',\n",
       " 'and decided',\n",
       " 'and definitely',\n",
       " 'and delicious',\n",
       " 'and did',\n",
       " 'and do',\n",
       " 'and does',\n",
       " 'and drink',\n",
       " 'and drinks',\n",
       " 'and easy',\n",
       " 'and eat',\n",
       " 'and efficient',\n",
       " 'and enjoy',\n",
       " 'and even',\n",
       " 'and every',\n",
       " 'and everyone',\n",
       " 'and everything',\n",
       " 'and family',\n",
       " 'and food',\n",
       " 'and for',\n",
       " 'and found',\n",
       " 'and fresh',\n",
       " 'and friendly',\n",
       " 'and fries',\n",
       " 'and fun',\n",
       " 'and gave',\n",
       " 'and get',\n",
       " 'and give',\n",
       " 'and go',\n",
       " 'and good',\n",
       " 'and got',\n",
       " 'and great',\n",
       " 'and had',\n",
       " 'and half',\n",
       " 'and has',\n",
       " 'and have',\n",
       " 'and he',\n",
       " 'and helpful',\n",
       " 'and her',\n",
       " 'and his',\n",
       " 'and hot',\n",
       " 'and how',\n",
       " 'and if',\n",
       " 'and in',\n",
       " 'and is',\n",
       " 'and it',\n",
       " 'and its',\n",
       " 'and just',\n",
       " 'and knowledgeable',\n",
       " 'and left',\n",
       " 'and let',\n",
       " 'and love',\n",
       " 'and loved',\n",
       " 'and made',\n",
       " 'and make',\n",
       " 'and more',\n",
       " 'and most',\n",
       " 'and my',\n",
       " 'and needed',\n",
       " 'and never',\n",
       " 'and nice',\n",
       " 'and no',\n",
       " 'and not',\n",
       " 'and now',\n",
       " 'and of',\n",
       " 'and on',\n",
       " 'and one',\n",
       " 'and only',\n",
       " 'and ordered',\n",
       " 'and other',\n",
       " 'and our',\n",
       " 'and out',\n",
       " 'and professional',\n",
       " 'and put',\n",
       " 'and really',\n",
       " 'and said',\n",
       " 'and see',\n",
       " 'and service',\n",
       " 'and she',\n",
       " 'and so',\n",
       " 'and some',\n",
       " 'and staff',\n",
       " 'and still',\n",
       " 'and super',\n",
       " 'and sweet',\n",
       " 'and take',\n",
       " 'and tasty',\n",
       " 'and that',\n",
       " 'and the',\n",
       " 'and their',\n",
       " 'and then',\n",
       " 'and there',\n",
       " 'and they',\n",
       " 'and think',\n",
       " 'and this',\n",
       " 'and thought',\n",
       " 'and to',\n",
       " 'and told',\n",
       " 'and took',\n",
       " 'and tried',\n",
       " 'and try',\n",
       " 'and two',\n",
       " 'and ve',\n",
       " 'and very',\n",
       " 'and waited',\n",
       " 'and walked',\n",
       " 'and wanted',\n",
       " 'and was',\n",
       " 'and we',\n",
       " 'and welcoming',\n",
       " 'and well',\n",
       " 'and went',\n",
       " 'and were',\n",
       " 'and what',\n",
       " 'and when',\n",
       " 'and while',\n",
       " 'and will',\n",
       " 'and with',\n",
       " 'and would',\n",
       " 'and you',\n",
       " 'and your',\n",
       " 'animal',\n",
       " 'anniversary',\n",
       " 'annoying',\n",
       " 'another',\n",
       " 'answer',\n",
       " 'answered',\n",
       " 'any',\n",
       " 'any of',\n",
       " 'any other',\n",
       " 'anymore',\n",
       " 'anyone',\n",
       " 'anyone who',\n",
       " 'anything',\n",
       " 'anything else',\n",
       " 'anytime',\n",
       " 'anyway',\n",
       " 'anyways',\n",
       " 'anywhere',\n",
       " 'anywhere else',\n",
       " 'apart',\n",
       " 'apartment',\n",
       " 'apologized',\n",
       " 'app',\n",
       " 'apparently',\n",
       " 'appetizer',\n",
       " 'appetizers',\n",
       " 'apple',\n",
       " 'appointment',\n",
       " 'appointments',\n",
       " 'appreciate',\n",
       " 'appreciated',\n",
       " 'are',\n",
       " 'are all',\n",
       " 'are also',\n",
       " 'are always',\n",
       " 'are amazing',\n",
       " 'are awesome',\n",
       " 'are friendly',\n",
       " 'are going',\n",
       " 'are good',\n",
       " 'are great',\n",
       " 'are in',\n",
       " 'are just',\n",
       " 'are looking',\n",
       " 'are not',\n",
       " 'are nt',\n",
       " 'are on',\n",
       " 'are pretty',\n",
       " 'are really',\n",
       " 'are so',\n",
       " 'are still',\n",
       " 'are super',\n",
       " 'are the',\n",
       " 'are very',\n",
       " 'are you',\n",
       " 'area',\n",
       " 'area and',\n",
       " 'areas',\n",
       " 'arizona',\n",
       " 'around',\n",
       " 'around and',\n",
       " 'around pm',\n",
       " 'around the',\n",
       " 'arrive',\n",
       " 'arrived',\n",
       " 'arrived at',\n",
       " 'art',\n",
       " 'as',\n",
       " 'as an',\n",
       " 'as far',\n",
       " 'as for',\n",
       " 'as good',\n",
       " 'as he',\n",
       " 'as if',\n",
       " 'as it',\n",
       " 'as long',\n",
       " 'as much',\n",
       " 'as my',\n",
       " 'as possible',\n",
       " 'as she',\n",
       " 'as soon',\n",
       " 'as the',\n",
       " 'as they',\n",
       " 'as to',\n",
       " 'as was',\n",
       " 'as we',\n",
       " 'as well',\n",
       " 'as you',\n",
       " 'asada',\n",
       " 'asian',\n",
       " 'aside',\n",
       " 'ask',\n",
       " 'ask for',\n",
       " 'asked',\n",
       " 'asked for',\n",
       " 'asked if',\n",
       " 'asked me',\n",
       " 'asked the',\n",
       " 'asked to',\n",
       " 'asking',\n",
       " 'ass',\n",
       " 'at',\n",
       " 'at all',\n",
       " 'at am',\n",
       " 'at and',\n",
       " 'at any',\n",
       " 'at best',\n",
       " 'at first',\n",
       " 'at home',\n",
       " 'at it',\n",
       " 'at least',\n",
       " 'at me',\n",
       " 'at my',\n",
       " 'at night',\n",
       " 'at one',\n",
       " 'at our',\n",
       " 'at pm',\n",
       " 'at that',\n",
       " 'at the',\n",
       " 'at this',\n",
       " 'ate',\n",
       " 'atmosphere',\n",
       " 'atmosphere and',\n",
       " 'atmosphere is',\n",
       " 'atmosphere was',\n",
       " 'attention',\n",
       " 'attention to',\n",
       " 'attentive',\n",
       " 'attentive and',\n",
       " 'attitude',\n",
       " 'auch',\n",
       " 'authentic',\n",
       " 'auto',\n",
       " 'available',\n",
       " 'average',\n",
       " 'avocado',\n",
       " 'avoid',\n",
       " 'aware',\n",
       " 'away',\n",
       " 'away and',\n",
       " 'away from',\n",
       " 'awesome',\n",
       " 'awesome and',\n",
       " 'awesome the',\n",
       " 'awful',\n",
       " 'awhile',\n",
       " 'ayce',\n",
       " 'az',\n",
       " 'baby',\n",
       " 'back',\n",
       " 'back again',\n",
       " 'back and',\n",
       " 'back for',\n",
       " 'back here',\n",
       " 'back in',\n",
       " 'back on',\n",
       " 'back the',\n",
       " 'back to',\n",
       " 'back with',\n",
       " 'bacon',\n",
       " 'bad',\n",
       " 'bad but',\n",
       " 'bad experience',\n",
       " 'bag',\n",
       " 'bagel',\n",
       " 'bags',\n",
       " 'baked',\n",
       " 'bakery',\n",
       " 'balance',\n",
       " 'ball',\n",
       " 'balls',\n",
       " 'banana',\n",
       " 'band',\n",
       " 'bank',\n",
       " 'bar',\n",
       " 'bar and',\n",
       " 'bar is',\n",
       " 'barely',\n",
       " 'bars',\n",
       " 'bartender',\n",
       " 'bartenders',\n",
       " 'base',\n",
       " 'based',\n",
       " 'based on',\n",
       " 'basic',\n",
       " 'basically',\n",
       " 'basil',\n",
       " 'bathroom',\n",
       " 'bathrooms',\n",
       " 'bay',\n",
       " 'bbq',\n",
       " 'be',\n",
       " 'be able',\n",
       " 'be back',\n",
       " 'be better',\n",
       " 'be coming',\n",
       " 'be disappointed',\n",
       " 'be done',\n",
       " 'be going',\n",
       " 'be good',\n",
       " 'be honest',\n",
       " 'be in',\n",
       " 'be more',\n",
       " 'be my',\n",
       " 'be prepared',\n",
       " 'be returning',\n",
       " 'be sure',\n",
       " 'be the',\n",
       " 'be there',\n",
       " 'be very',\n",
       " 'bean',\n",
       " 'beans',\n",
       " 'beat',\n",
       " 'beautiful',\n",
       " 'beautiful and',\n",
       " 'beautifully',\n",
       " 'became',\n",
       " 'because',\n",
       " 'because he',\n",
       " 'because it',\n",
       " 'because my',\n",
       " 'because of',\n",
       " 'because she',\n",
       " 'because the',\n",
       " 'because there',\n",
       " 'because they',\n",
       " 'because was',\n",
       " 'because we',\n",
       " 'because you',\n",
       " 'become',\n",
       " 'bed',\n",
       " 'beds',\n",
       " 'beef',\n",
       " 'been',\n",
       " 'been coming',\n",
       " 'been going',\n",
       " 'been here',\n",
       " 'been in',\n",
       " 'been there',\n",
       " 'been to',\n",
       " 'beer',\n",
       " 'beer and',\n",
       " 'beer selection',\n",
       " 'beers',\n",
       " 'before',\n",
       " 'before and',\n",
       " 'before the',\n",
       " 'before they',\n",
       " 'before we',\n",
       " 'before you',\n",
       " 'began',\n",
       " 'begin',\n",
       " 'beginning',\n",
       " 'behind',\n",
       " 'behind the',\n",
       " 'being',\n",
       " 'believe',\n",
       " 'bell',\n",
       " 'bellagio',\n",
       " 'belly',\n",
       " 'below',\n",
       " 'benedict',\n",
       " 'besides',\n",
       " 'best',\n",
       " 'best in',\n",
       " 'best of',\n",
       " 'best part',\n",
       " 'best place',\n",
       " 'best ve',\n",
       " 'better',\n",
       " 'better than',\n",
       " 'between',\n",
       " 'between the',\n",
       " 'beware',\n",
       " 'beyond',\n",
       " 'bf',\n",
       " 'big',\n",
       " 'bigger',\n",
       " 'biggest',\n",
       " 'bike',\n",
       " 'bill',\n",
       " 'birthday',\n",
       " 'bit',\n",
       " 'bit more',\n",
       " 'bit of',\n",
       " 'bite',\n",
       " 'bites',\n",
       " 'black',\n",
       " 'bland',\n",
       " 'blood',\n",
       " 'blown',\n",
       " 'blue',\n",
       " 'board',\n",
       " 'boba',\n",
       " 'body',\n",
       " 'bomb',\n",
       " 'bone',\n",
       " 'bonus',\n",
       " 'book',\n",
       " 'booked',\n",
       " 'books',\n",
       " 'booth',\n",
       " 'both',\n",
       " 'both of',\n",
       " 'both the',\n",
       " 'both times',\n",
       " 'both were',\n",
       " 'bother',\n",
       " 'bottle',\n",
       " 'bottle of',\n",
       " 'bottles',\n",
       " 'bottom',\n",
       " 'bought',\n",
       " 'bowl',\n",
       " 'bowl of',\n",
       " 'bowls',\n",
       " 'box',\n",
       " 'boxes',\n",
       " 'boy',\n",
       " 'boyfriend',\n",
       " 'boyfriend and',\n",
       " 'boys',\n",
       " 'brand',\n",
       " 'brand new',\n",
       " 'bread',\n",
       " 'bread and',\n",
       " 'bread was',\n",
       " 'break',\n",
       " 'breakfast',\n",
       " 'bright',\n",
       " 'bring',\n",
       " 'bringing',\n",
       " 'brisket',\n",
       " 'broke',\n",
       " 'broken',\n",
       " 'broth',\n",
       " 'brother',\n",
       " 'brought',\n",
       " 'brought out',\n",
       " 'brown',\n",
       " 'brunch',\n",
       " 'bucks',\n",
       " 'budget',\n",
       " 'buffalo',\n",
       " 'buffet',\n",
       " 'buffets',\n",
       " 'building',\n",
       " 'bun',\n",
       " 'bunch',\n",
       " 'bunch of',\n",
       " 'burger',\n",
       " 'burger and',\n",
       " 'burger was',\n",
       " 'burgers',\n",
       " 'burnt',\n",
       " 'burrito',\n",
       " 'bus',\n",
       " 'business',\n",
       " 'business and',\n",
       " 'businesses',\n",
       " 'busy',\n",
       " 'busy and',\n",
       " 'but',\n",
       " 'but after',\n",
       " 'but also',\n",
       " 'but at',\n",
       " 'but could',\n",
       " 'but did',\n",
       " 'but do',\n",
       " 'but for',\n",
       " 'but had',\n",
       " 'but have',\n",
       " 'but he',\n",
       " 'but if',\n",
       " 'but in',\n",
       " 'but it',\n",
       " 'but just',\n",
       " 'but my',\n",
       " 'but no',\n",
       " 'but not',\n",
       " 'but nothing',\n",
       " 'but she',\n",
       " 'but still',\n",
       " 'but that',\n",
       " 'but the',\n",
       " 'but then',\n",
       " 'but there',\n",
       " 'but they',\n",
       " 'but think',\n",
       " 'but this',\n",
       " 'but was',\n",
       " 'but we',\n",
       " 'but what',\n",
       " 'but when',\n",
       " 'but will',\n",
       " 'but with',\n",
       " 'but would',\n",
       " 'but you',\n",
       " 'butter',\n",
       " 'buy',\n",
       " 'buying',\n",
       " 'by',\n",
       " 'by and',\n",
       " 'by far',\n",
       " 'by my',\n",
       " 'by the',\n",
       " 'by this',\n",
       " 'ca',\n",
       " 'ca nt',\n",
       " 'cab',\n",
       " 'caesar',\n",
       " 'cafe',\n",
       " 'cake',\n",
       " 'cakes',\n",
       " 'calamari',\n",
       " 'california',\n",
       " 'call',\n",
       " 'call me',\n",
       " 'call the',\n",
       " 'called',\n",
       " 'called and',\n",
       " 'called me',\n",
       " 'called the',\n",
       " 'called to',\n",
       " 'calling',\n",
       " 'calls',\n",
       " 'came',\n",
       " 'came back',\n",
       " 'came here',\n",
       " 'came in',\n",
       " 'came out',\n",
       " 'came over',\n",
       " 'came to',\n",
       " 'came with',\n",
       " 'can',\n",
       " 'can be',\n",
       " 'can do',\n",
       " 'can eat',\n",
       " 'can get',\n",
       " 'can go',\n",
       " 'can not',\n",
       " 'can only',\n",
       " 'can say',\n",
       " 'can see',\n",
       " 'can tell',\n",
       " 'can you',\n",
       " 'cancel',\n",
       " 'candy',\n",
       " 'cant',\n",
       " 'car',\n",
       " 'car and',\n",
       " 'car was',\n",
       " 'caramel',\n",
       " 'card',\n",
       " 'cards',\n",
       " 'care',\n",
       " 'care about',\n",
       " 'care for',\n",
       " 'care of',\n",
       " 'careful',\n",
       " 'cares',\n",
       " 'caring',\n",
       " 'carne',\n",
       " 'carne asada',\n",
       " 'carpet',\n",
       " 'carry',\n",
       " 'cars',\n",
       " 'case',\n",
       " 'cash',\n",
       " 'cashier',\n",
       " 'casino',\n",
       " 'casual',\n",
       " 'cat',\n",
       " 'catch',\n",
       " 'cause',\n",
       " 'center',\n",
       " 'certain',\n",
       " 'certainly',\n",
       " 'chain',\n",
       " 'chair',\n",
       " 'chairs',\n",
       " 'chance',\n",
       " 'chance to',\n",
       " 'change',\n",
       " 'changed',\n",
       " 'changes',\n",
       " 'changing',\n",
       " 'charge',\n",
       " 'charged',\n",
       " 'charges',\n",
       " 'charging',\n",
       " 'charlotte',\n",
       " 'cheap',\n",
       " 'cheaper',\n",
       " 'check',\n",
       " 'check in',\n",
       " 'check it',\n",
       " 'check on',\n",
       " 'check out',\n",
       " 'checked',\n",
       " 'checking',\n",
       " 'cheese',\n",
       " 'cheese and',\n",
       " 'cheesecake',\n",
       " 'chef',\n",
       " 'chefs',\n",
       " 'chewy',\n",
       " 'chicago',\n",
       " 'chicken',\n",
       " 'chicken and',\n",
       " 'chicken was',\n",
       " 'child',\n",
       " 'children',\n",
       " 'chili',\n",
       " 'chill',\n",
       " 'chinese',\n",
       " 'chinese food',\n",
       " 'chip',\n",
       " 'chipotle',\n",
       " 'chips',\n",
       " 'chips and',\n",
       " 'chocolate',\n",
       " 'choice',\n",
       " 'choice of',\n",
       " 'choices',\n",
       " 'choose',\n",
       " 'choose from',\n",
       " 'chose',\n",
       " 'chris',\n",
       " 'christmas',\n",
       " 'cinnamon',\n",
       " 'city',\n",
       " 'claim',\n",
       " 'class',\n",
       " 'classes',\n",
       " 'classic',\n",
       " 'classy',\n",
       " 'clean',\n",
       " 'clean and',\n",
       " 'clean the',\n",
       " 'cleaned',\n",
       " 'cleaning',\n",
       " 'clear',\n",
       " 'clearly',\n",
       " 'cleveland',\n",
       " 'client',\n",
       " 'clients',\n",
       " 'close',\n",
       " 'close to',\n",
       " 'closed',\n",
       " 'closer',\n",
       " 'closer to',\n",
       " 'closing',\n",
       " 'clothes',\n",
       " 'club',\n",
       " 'cocktail',\n",
       " 'cocktails',\n",
       " 'coconut',\n",
       " 'coffee',\n",
       " 'coffee and',\n",
       " 'cold',\n",
       " 'cold and',\n",
       " 'college',\n",
       " 'color',\n",
       " 'colors',\n",
       " 'combination',\n",
       " 'combo',\n",
       " 'come',\n",
       " 'come back',\n",
       " 'come here',\n",
       " 'come in',\n",
       " 'come on',\n",
       " 'come out',\n",
       " 'come to',\n",
       " 'come with',\n",
       " 'comes',\n",
       " 'comes to',\n",
       " 'comes with',\n",
       " 'comfort',\n",
       " 'comfortable',\n",
       " 'comfortable and',\n",
       " 'comfy',\n",
       " 'coming',\n",
       " 'coming back',\n",
       " 'coming here',\n",
       " 'coming to',\n",
       " 'comment',\n",
       " 'common',\n",
       " 'communication',\n",
       " 'community',\n",
       " 'companies',\n",
       " 'company',\n",
       " 'compare',\n",
       " 'compared',\n",
       " 'compared to',\n",
       " 'complain',\n",
       " 'complaint',\n",
       " 'complaints',\n",
       " 'complete',\n",
       " 'completed',\n",
       " 'completely',\n",
       " 'complex',\n",
       " 'complimentary',\n",
       " 'computer',\n",
       " 'concept',\n",
       " 'concerned',\n",
       " 'concerns',\n",
       " 'confused',\n",
       " 'consider',\n",
       " 'considering',\n",
       " 'consistent',\n",
       " 'consistently',\n",
       " 'constantly',\n",
       " 'contact',\n",
       " 'contacted',\n",
       " 'continue',\n",
       " 'continue to',\n",
       " 'continued',\n",
       " 'contract',\n",
       " 'control',\n",
       " 'convenient',\n",
       " 'conversation',\n",
       " 'cook',\n",
       " 'cooked',\n",
       " 'cooked perfectly',\n",
       " 'cooked to',\n",
       " 'cookie',\n",
       " 'cookies',\n",
       " 'cooking',\n",
       " 'cool',\n",
       " 'corn',\n",
       " 'corner',\n",
       " 'corporate',\n",
       " 'correct',\n",
       " 'correctly',\n",
       " 'cost',\n",
       " 'costs',\n",
       " 'could',\n",
       " 'could be',\n",
       " 'could do',\n",
       " 'could get',\n",
       " 'could give',\n",
       " 'could have',\n",
       " 'could not',\n",
       " 'could nt',\n",
       " 'counter',\n",
       " 'country',\n",
       " 'couple',\n",
       " 'couple of',\n",
       " 'coupon',\n",
       " 'course',\n",
       " 'court',\n",
       " 'courteous',\n",
       " 'cover',\n",
       " 'covered',\n",
       " 'cozy',\n",
       " 'crab',\n",
       " 'craft',\n",
       " 'crap',\n",
       " 'craving',\n",
       " 'crazy',\n",
       " 'cream',\n",
       " 'cream and',\n",
       " 'creamy',\n",
       " 'creative',\n",
       " 'credit',\n",
       " 'credit card',\n",
       " 'crepe',\n",
       " 'crew',\n",
       " 'crisp',\n",
       " 'crispy',\n",
       " 'crowd',\n",
       " 'crowded',\n",
       " 'crunchy',\n",
       " 'crust',\n",
       " 'cuisine',\n",
       " 'cup',\n",
       " 'cup of',\n",
       " 'cupcakes',\n",
       " 'cups',\n",
       " 'current',\n",
       " 'curry',\n",
       " 'custom',\n",
       " 'customer',\n",
       " 'customer service',\n",
       " 'customers',\n",
       " 'cut',\n",
       " 'cute',\n",
       " 'cuts',\n",
       " 'dad',\n",
       " 'daily',\n",
       " 'damage',\n",
       " 'damn',\n",
       " 'dance',\n",
       " 'dancing',\n",
       " 'dark',\n",
       " 'das',\n",
       " 'date',\n",
       " 'daughter',\n",
       " 'david',\n",
       " 'day',\n",
       " 'day and',\n",
       " 'day of',\n",
       " 'day the',\n",
       " 'days',\n",
       " 'days later',\n",
       " 'de',\n",
       " 'dead',\n",
       " 'deal',\n",
       " 'deal with',\n",
       " 'dealership',\n",
       " 'dealing',\n",
       " 'deals',\n",
       " 'decent',\n",
       " 'decide',\n",
       " 'decided',\n",
       " 'decided to',\n",
       " 'decision',\n",
       " 'decor',\n",
       " 'decor is',\n",
       " 'decorated',\n",
       " 'deep',\n",
       " 'def',\n",
       " 'definitely',\n",
       " 'definitely be',\n",
       " 'definitely come',\n",
       " 'definitely go',\n",
       " 'definitely not',\n",
       " 'definitely recommend',\n",
       " 'definitely worth',\n",
       " ...]"
      ]
     },
     "execution_count": 82,
     "metadata": {},
     "output_type": "execute_result"
    }
   ],
   "source": [
    "count_vec.get_feature_names()"
   ]
  },
  {
   "cell_type": "code",
   "execution_count": 83,
   "metadata": {},
   "outputs": [
    {
     "data": {
      "text/plain": [
       "matrix([[0, 0, 0, ..., 0, 0, 0],\n",
       "        [0, 0, 0, ..., 0, 0, 0],\n",
       "        [0, 0, 0, ..., 0, 0, 0],\n",
       "        ...,\n",
       "        [0, 0, 0, ..., 0, 0, 0],\n",
       "        [0, 0, 0, ..., 0, 0, 0],\n",
       "        [0, 0, 0, ..., 0, 0, 0]])"
      ]
     },
     "execution_count": 83,
     "metadata": {},
     "output_type": "execute_result"
    }
   ],
   "source": [
    "x_test_features.todense()"
   ]
  },
  {
   "cell_type": "markdown",
   "metadata": {},
   "source": [
    "# Logistic Regression (final model)"
   ]
  },
  {
   "cell_type": "code",
   "execution_count": null,
   "metadata": {
    "collapsed": true
   },
   "outputs": [],
   "source": []
  },
  {
   "cell_type": "code",
   "execution_count": null,
   "metadata": {
    "collapsed": true
   },
   "outputs": [],
   "source": [
    "from sklearn.linear_model import LogisticRegression\n",
    "clf=LogisticRegression(C=0.1)\n",
    "clf.fit(x_train_features,y_train)\n"
   ]
  },
  {
   "cell_type": "code",
   "execution_count": null,
   "metadata": {
    "collapsed": true
   },
   "outputs": [],
   "source": [
    "# y_test=clf.predict(test_data)\n",
    "# print(clf.score(x_test_features,y_test))"
   ]
  },
  {
   "cell_type": "markdown",
   "metadata": {},
   "source": [
    "Score: 0.906301"
   ]
  },
  {
   "cell_type": "code",
   "execution_count": null,
   "metadata": {
    "collapsed": true
   },
   "outputs": [],
   "source": [
    "# import numpy as np\n",
    "\n",
    "# senti_F = pd.DataFrame({'ID':IDs , \"label\": clf.predict(x_test_features)})\n",
    "# senti_F.to_csv('senti_FF.csv', index=False)"
   ]
  },
  {
   "cell_type": "markdown",
   "metadata": {
    "collapsed": true
   },
   "source": [
    "# NAIVE BAYES SKLEARN"
   ]
  },
  {
   "cell_type": "code",
   "execution_count": 84,
   "metadata": {
    "collapsed": true
   },
   "outputs": [],
   "source": [
    "from sklearn.naive_bayes import MultinomialNB\n",
    "clf = MultinomialNB()\n"
   ]
  },
  {
   "cell_type": "code",
   "execution_count": 87,
   "metadata": {},
   "outputs": [
    {
     "data": {
      "text/plain": [
       "MultinomialNB(alpha=1.0, class_prior=None, fit_prior=True)"
      ]
     },
     "execution_count": 87,
     "metadata": {},
     "output_type": "execute_result"
    }
   ],
   "source": [
    "clf.fit(x_train_features, y_train)"
   ]
  },
  {
   "cell_type": "code",
   "execution_count": 88,
   "metadata": {},
   "outputs": [
    {
     "data": {
      "text/plain": [
       "0.81604"
      ]
     },
     "execution_count": 88,
     "metadata": {},
     "output_type": "execute_result"
    }
   ],
   "source": [
    "clf.score( x_test_features, y_test)"
   ]
  },
  {
   "cell_type": "code",
   "execution_count": null,
   "metadata": {
    "collapsed": true
   },
   "outputs": [],
   "source": [
    "# import numpy as np\n",
    "\n",
    "# senti_NB = pd.DataFrame({'ID':IDs , \"label\": clf.predict(x_test_features)})\n",
    "# senti_NB.to_csv('senti_NB_final.csv', index=False)"
   ]
  },
  {
   "cell_type": "markdown",
   "metadata": {
    "collapsed": true
   },
   "source": [
    "# SVC"
   ]
  },
  {
   "cell_type": "markdown",
   "metadata": {},
   "source": []
  },
  {
   "cell_type": "code",
   "execution_count": null,
   "metadata": {
    "collapsed": true
   },
   "outputs": [],
   "source": [
    "from sklearn.svm import SVC"
   ]
  },
  {
   "cell_type": "code",
   "execution_count": null,
   "metadata": {
    "collapsed": true
   },
   "outputs": [],
   "source": [
    "svc=SVC(C=100)\n",
    "svc.fit(x_train_features,y_train)"
   ]
  },
  {
   "cell_type": "code",
   "execution_count": null,
   "metadata": {
    "collapsed": true
   },
   "outputs": [],
   "source": [
    "# svc.score(x_test_features,y_test)"
   ]
  },
  {
   "cell_type": "code",
   "execution_count": null,
   "metadata": {
    "collapsed": true
   },
   "outputs": [],
   "source": [
    "\n",
    "senti_SVM = pd.DataFrame({'ID':IDs , \"label\": clf.predict(x_test_features)})\n",
    "senti_SVM.to_csv('senti_SVM.csv', index=False)"
   ]
  },
  {
   "cell_type": "code",
   "execution_count": null,
   "metadata": {
    "collapsed": true
   },
   "outputs": [],
   "source": []
  },
  {
   "cell_type": "markdown",
   "metadata": {},
   "source": [
    "# Random Forest"
   ]
  },
  {
   "cell_type": "code",
   "execution_count": null,
   "metadata": {
    "collapsed": true
   },
   "outputs": [],
   "source": []
  },
  {
   "cell_type": "code",
   "execution_count": null,
   "metadata": {
    "collapsed": true
   },
   "outputs": [],
   "source": [
    "# from sklearn.ensemble import RandomForestClassifier\n",
    "# rfc=RandomForestClassifier()\n"
   ]
  },
  {
   "cell_type": "code",
   "execution_count": null,
   "metadata": {
    "collapsed": true
   },
   "outputs": [],
   "source": [
    "# classifier_sklearn1=SklearnClassifier(rfc)"
   ]
  },
  {
   "cell_type": "code",
   "execution_count": null,
   "metadata": {
    "collapsed": true
   },
   "outputs": [],
   "source": [
    "# classifier_sklearn1.train(training_data)"
   ]
  },
  {
   "cell_type": "code",
   "execution_count": null,
   "metadata": {
    "collapsed": true
   },
   "outputs": [],
   "source": [
    "# nltk.classify.accuracy(classifier_sklearn1,testing_data)"
   ]
  }
 ],
 "metadata": {
  "kernelspec": {
   "display_name": "Python 3",
   "language": "python",
   "name": "python3"
  },
  "language_info": {
   "codemirror_mode": {
    "name": "ipython",
    "version": 3
   },
   "file_extension": ".py",
   "mimetype": "text/x-python",
   "name": "python",
   "nbconvert_exporter": "python",
   "pygments_lexer": "ipython3",
   "version": "3.6.6"
  }
 },
 "nbformat": 4,
 "nbformat_minor": 2
}
